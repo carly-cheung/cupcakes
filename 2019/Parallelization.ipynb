{
 "cells": [
  {
   "cell_type": "markdown",
   "metadata": {
    "slideshow": {
     "slide_type": "slide"
    }
   },
   "source": [
    "# Intro to parallelization in Python using Concurrent.futures"
   ]
  },
  {
   "cell_type": "markdown",
   "metadata": {
    "slideshow": {
     "slide_type": "slide"
    }
   },
   "source": [
    "\n",
    "### setup/installation:\n",
    "* create conda env with `conda create -n parallel python=3.6 matplotlib pil numpy`\n",
    "* `source activate parallel` or if that didn't work `conda activate parallel`\n",
    "\n"
   ]
  },
  {
   "cell_type": "markdown",
   "metadata": {
    "slideshow": {
     "slide_type": "slide"
    }
   },
   "source": [
    "### what is parallelization?:\n",
    "\n",
    "  * Parralelization is the act of splitting up a larger task into smaller componentes to be ran simultaneously.\n",
    "\n",
    "\n",
    "  * why is this important?\n",
    "    * if used with the right kind of problem, parallelization can significantly speed up code execution time"
   ]
  },
  {
   "cell_type": "markdown",
   "metadata": {
    "slideshow": {
     "slide_type": "slide"
    }
   },
   "source": [
    "### Terminology Basics (different types of batch task management):\n",
    "\n",
    "* before we jump into parallelization, it's important to go over the different ways to split up tasks and get parallel behavior:\n",
    "  \n",
    "  \n",
    "  * **parallelization**: splitting up big task into multiple smaller tasks to be run at the same time.\n",
    "    * ex: Using multiple copies of the same protein in a cell to all work simultaneously\n",
    "  \n",
    "  \n",
    "   * **concurrency**: many independent jobs doing different things all at once. Tasks can be executed out of order and the result would still be the same as if they were executed in order. \n",
    "     * ex: DNA transcription (multiple polymerases at once on DNA in different order\n",
    "\n"
   ]
  },
  {
   "cell_type": "markdown",
   "metadata": {
    "slideshow": {
     "slide_type": "subslide"
    }
   },
   "source": [
    "   * **asynchronous programming**: offloading (often long running) tasks to be completed while resuming code execution\n",
    "     * ex: doing chores\n",
    "\n",
    "\n",
    "   * **distribution** (distributed systems): distributing programming components over multiple hosts, usually connected through a network. \n",
    "      * ex: Insulin triggering multiple cells to take up sugar.\n",
    "\n",
    "\n",
    "* For this tutorial we are going to be focusing on Parallelization using MultiThreading, and MultiProcessing"
   ]
  },
  {
   "cell_type": "markdown",
   "metadata": {
    "slideshow": {
     "slide_type": "slide"
    }
   },
   "source": [
    "### Process/ Thread Real World examples:\n",
    " \n",
    "* When you open Microsoft Word, you create a process. When you start typing, the process spawns threads: one to read keystrokes, another to display text, one to autosave your file, and yet another to highlight spelling mistakes. By spawning multiple threads, Microsoft takes advantage of idle CPU time (waiting for keystrokes or files to load) and makes you more productive.\n",
    "\n",
    "\n",
    "* A process is an instance of program (e.g. Jupyter notebook, Python interpreter). Processes spawn threads (sub-processes) to handle subtasks like reading keystrokes, loading HTML pages, saving files. Threads live inside processes and share the same memory space.\n"
   ]
  },
  {
   "cell_type": "markdown",
   "metadata": {
    "slideshow": {
     "slide_type": "slide"
    }
   },
   "source": [
    "### Assessing where your bottleneck is:\n",
    "\n",
    "* Great, now that you understand the different types of parallel programming a little bit more, and have some real world context for processes/thread, how can you decide which method to use for your particular problem? \n",
    "\n",
    "\n",
    " * The first thing you should do is find your bottleneck, where is your program spending the most time? [small introductory guide to profiling](https://marcobonzanini.com/2015/01/05/my-python-code-is-slow-tips-for-profiling/)\n",
    "    \n",
    "    \n",
    "* Once isolating where your slowdown is, you next need to decide whether the problem is CPU bound or IO bound.\n",
    "\n",
    "* Side note: there are other ways your problem can be bound, but for now we are limiting it to these two options.\n",
    "\n",
    "\n"
   ]
  },
  {
   "cell_type": "markdown",
   "metadata": {
    "slideshow": {
     "slide_type": "subslide"
    }
   },
   "source": [
    "* **CPU bound**:\n",
    "  * CPU Bound means the rate at which process progresses is limited by the speed of the CPU.\n",
    "  * A program is CPU bound if it would go faster if the CPU were faster.  \n",
    "  * examples: heavy math calculations, video streaming, search algorithms, rendering\n",
    "\n",
    "\n",
    "* **IO bound**:\n",
    "  * I/O Bound means the rate at which a process progresses is limited by the speed of the I/O subsystem.\n",
    "  * A program is I/O bound if it would go faster if the I/O subsystem was faster.\n",
    "  * examples: processing data from disk, counting the number of lines in a file"
   ]
  },
  {
   "cell_type": "markdown",
   "metadata": {
    "slideshow": {
     "slide_type": "slide"
    }
   },
   "source": [
    "### Global Interpreter Lock (GIL)\n",
    "\n",
    "* Before continuing, it is important to grasp the concept of the global interpreter lock in python.\n",
    "\n",
    "\n",
    "* CPython (the standard python implementation) has something called the GIL (Global Interpreter Lock), which prevent two threads from executing simultaneously in the same program. \n",
    "\n",
    "\n",
    "* As a result of the GIL, multi threading is sometimes seen as being broken in python (multi processing side steps the GIL). In fact the multithreading python library is not even using real system threads! \n",
    "\n",
    "\n",
    "* So, What is this awful thing doing in python and why hasn't it been removed yet??\n",
    "\n",
    "\n",
    "  * The GIL has many important uses, and without it python wouldn't be where it is today.\n",
    "  "
   ]
  },
  {
   "cell_type": "markdown",
   "metadata": {
    "slideshow": {
     "slide_type": "slide"
    }
   },
   "source": [
    "### Multiprocessing or Multithreading?\n",
    "  \n",
    "  * For CPU bound tasks: use multiprocessing\n",
    "    * Why? Because of the GIL multiple threads cannot be executed simultaneously. Therefore, to get the most milage, we need to create seperate processes to sidestep the GIL and run parts of our python code simultaneously.\n",
    "    \n",
    "    \n",
    "  * For IO bound tasks: use multithreading\n",
    "    * Why? All of Python's blocking I/O primitives release the GIL while waiting for the I/O block to resolve. This in addition to threads sharing the same memory space, and therefore being able to write to the same variables, is what make the multithreading library great for IO bound tasks."
   ]
  },
  {
   "cell_type": "markdown",
   "metadata": {
    "slideshow": {
     "slide_type": "subslide"
    }
   },
   "source": [
    "  * To list a few of these important uses:\n",
    "    * protects access to Python objects by preventing what are known as race conditions. [more information here](http://www.c-oreills.com/2015/03/01/testing-race-conditions-in-python.html)\n",
    "    * Allows single threaded python programs to be run quickly.\n",
    "    * Allows non thread safe C libraries to be imported to python easily (ex: numpy, scipy)\n",
    "\n",
    "\n",
    "* If the GIL is _really_ bothering you, you can try a different python language implementation such as Jython, IronPython or CPython. Beware that this is much trickier, and could cause crashes or other wierd bugs. "
   ]
  },
  {
   "cell_type": "markdown",
   "metadata": {
    "slideshow": {
     "slide_type": "slide"
    }
   },
   "source": [
    "### Multi _Processing_ Pros and Cons:\n",
    "\n",
    "* **Pros**:\n",
    "  * Separate memory space\n",
    "  * Code is usually straightforward\n",
    "  * Takes advantage of multiple CPUs & cores\n",
    "  * Avoids GIL limitations for cPython\n",
    "  * Eliminates most needs for synchronization primitives unless if you use shared memory\n",
    "  * Child processes are interruptible/killable\n",
    "  * A must with cPython for CPU-bound processing\n",
    "\n",
    "* **Cons**:\n",
    "  * Interprocess Communication is a little more complicated with more overhead (communication model vs. shared memory/objects)\n",
    "  * Larger memory footprint\n",
    "  * Processes have more overhead than threads as opening and closing processes takes more time\n",
    "  * Sharing information between processes is slower than sharing between threads as processes do not share memory space. In python they share information by pickling data structures like arrays which requires IO time.\n",
    "  * Shared objects must be serializable.\n",
    "  "
   ]
  },
  {
   "cell_type": "markdown",
   "metadata": {
    "slideshow": {
     "slide_type": "slide"
    }
   },
   "source": [
    "### Multi _Threading_ Pros and Cons:\n",
    "\n",
    "* **Pros**:\n",
    "  * Lightweight - low memory footprint\n",
    "  * Shared memory space - makes access to state from another context easier (efficiently read and write to the same variables)\n",
    "  * cPython C extension modules that properly release the GIL will run in parallelization\n",
    "\n",
    "\n",
    "* **Cons**:\n",
    "  * cPython - subject to the GIL\n",
    "  * Not interruptible/killable\n",
    "  * Code is usually harder to understand and to get right \n",
    "  * the potential for race conditions increases dramatically\n"
   ]
  },
  {
   "cell_type": "markdown",
   "metadata": {
    "slideshow": {
     "slide_type": "slide"
    }
   },
   "source": [
    "### concurrent.futures\n",
    "\n",
    "* To demonstrate some basic use cases, we are going to be using the `concurrent.futures` module \n",
    "    * already a part of the python standard library, no need to pip install anything.\n",
    "    * [official documentation](https://docs.python.org/3/library/concurrent.futures.html)\n",
    "    \n",
    "    \n",
    "* Main features of concurrent.futures:\n",
    "    * `ThreadPoolExecutor`\n",
    "    * `ProcessPoolExecutor`\n",
    "    \n",
    "    \n",
    "* If you are new to multithreading/multiprocessing, I would recommend using either of these features in this context:\n",
    "\n",
    "\n",
    "```python\n",
    "with ThreadPoolExecutor(max_workers=workers) as executor: # or ProcessPoolExecutor\n",
    "    results = executor.map(func, args)\n",
    "\n",
    "```\n",
    "\n",
    "\n",
    "* using the `with` statement makes sure pools are cleaned up and closed properly. With is a safe way in python to easily end or close a task.\n"
   ]
  },
  {
   "cell_type": "code",
   "execution_count": null,
   "metadata": {
    "slideshow": {
     "slide_type": "slide"
    }
   },
   "outputs": [],
   "source": [
    "### ThreadPoolExecutor Example:\n",
    "\n",
    "# taken from concurrent.futures official python docs: (https://docs.python.org/3/library/concurrent.futures.html)\n",
    "import concurrent.futures\n",
    "import urllib.request\n",
    "\n",
    "URLS = ['http://www.foxnews.com/',\n",
    "        'http://www.cnn.com/',\n",
    "        'http://europe.wsj.com/',\n",
    "        'http://www.bbc.co.uk/',\n",
    "        'http://some-made-up-domain.com/']\n",
    "\n",
    "# Retrieve a single page and report the URL and contents\n",
    "def load_url(url, timeout):\n",
    "    with urllib.request.urlopen(url, timeout=timeout) as conn:\n",
    "        return conn.read()\n",
    "\n",
    "# We can use a with statement to ensure threads are cleaned up promptly\n",
    "with concurrent.futures.ThreadPoolExecutor(max_workers=5) as executor:\n",
    "    # Start the load operations and mark each future with its URL\n",
    "    future_to_url = {executor.submit(load_url, url, 60): url for url in URLS}\n",
    "    for future in concurrent.futures.as_completed(future_to_url):\n",
    "        url = future_to_url[future]\n",
    "        try:\n",
    "            data = future.result()\n",
    "        except Exception as exc:\n",
    "            print('%r generated an exception: %s' % (url, exc))\n",
    "        else:\n",
    "            print('%r page is %d bytes' % (url, len(data)))\n"
   ]
  },
  {
   "cell_type": "code",
   "execution_count": 2,
   "metadata": {
    "slideshow": {
     "slide_type": "slide"
    }
   },
   "outputs": [
    {
     "name": "stdout",
     "output_type": "stream",
     "text": [
      "112272535095293 is prime: True\n",
      "112582705942171 is prime: True\n",
      "112272535095293 is prime: True\n",
      "115280095190773 is prime: True\n",
      "115797848077099 is prime: True\n",
      "1099726899285419 is prime: False\n"
     ]
    }
   ],
   "source": [
    "### ProcessPoolExecutor Example:\n",
    "\n",
    "# taken from concurrent.futures official python docs: (https://docs.python.org/3/library/concurrent.futures.html)\n",
    "\n",
    "import concurrent.futures\n",
    "import math\n",
    "\n",
    "PRIMES = [\n",
    "    112272535095293,\n",
    "    112582705942171,\n",
    "    112272535095293,\n",
    "    115280095190773,\n",
    "    115797848077099,\n",
    "    1099726899285419]\n",
    "\n",
    "def is_prime(n):\n",
    "    if n % 2 == 0:\n",
    "        return False\n",
    "\n",
    "    sqrt_n = int(math.floor(math.sqrt(n)))\n",
    "    for i in range(3, sqrt_n + 1, 2):\n",
    "        if n % i == 0:\n",
    "            return False\n",
    "    return True\n",
    "\n",
    "def main():\n",
    "    with concurrent.futures.ProcessPoolExecutor() as executor:\n",
    "        for number, prime in zip(PRIMES, executor.map(is_prime, PRIMES)):\n",
    "            print('%d is prime: %s' % (number, prime))\n",
    "\n",
    "if __name__ == '__main__':\n",
    "    main()"
   ]
  },
  {
   "cell_type": "markdown",
   "metadata": {
    "slideshow": {
     "slide_type": "slide"
    }
   },
   "source": [
    "### Caveat:\n",
    "\n",
    "Why did we call \n",
    "```python\n",
    "if __name__=='__main__':\n",
    "    main()\n",
    "```\n",
    "for ProcessPoolExecutor and not for ThreadPoolExecutor?\n",
    "\n",
    "* Since we are submitting work to different processes, which have seperate memory spaces, the whole __main__ module must be importable by worker subprocesses. You don't need to know _too_ much about the internals on this, but beware if you use an interactive console that you'll have to provide the above context.\n"
   ]
  },
  {
   "cell_type": "markdown",
   "metadata": {
    "slideshow": {
     "slide_type": "slide"
    }
   },
   "source": [
    "### More Examples:\n",
    "\n",
    "* Examples taken and modified from [here](https://github.com/bfortuner/ml-study/blob/master/multitasking_python.ipynb)\n",
    "* We will be going over three use cases with ThreadPoolExector and ProcessPoolExector:\n",
    "    \n",
    "    1) API calls (Web scraping with urllib)\n",
    "    ```python\n",
    "    def download(url, base):\n",
    "        start = time.time() - base\n",
    "        try:\n",
    "            resp = urlopen(url)\n",
    "        except Exception as e:\n",
    "            print ('ERROR: %s' % e)\n",
    "        stop = time.time() - base\n",
    "        return start,stop\n",
    "    ```\n"
   ]
  },
  {
   "cell_type": "markdown",
   "metadata": {
    "slideshow": {
     "slide_type": "subslide"
    }
   },
   "source": [
    "\n",
    "2) IO Heavy tasks (writing to file)\n",
    "```python\n",
    "def io_heavy(text,base):\n",
    "    start = time.time() - base\n",
    "    f = open('output.txt', 'wt', encoding='utf-8')\n",
    "    f.write(text)\n",
    "    f.close()\n",
    "    stop = time.time() - base\n",
    "    return start,stop\n",
    "```\n",
    "\n",
    "3) Long running arithmetic (numpy addition)\n",
    "```python\n",
    "def addition(i, base):\n",
    "    start = time.time() - base\n",
    "    res = a + b\n",
    "    stop = time.time() - base\n",
    "    return start,stop\n",
    "\n",
    "```"
   ]
  },
  {
   "cell_type": "code",
   "execution_count": 1,
   "metadata": {
    "slideshow": {
     "slide_type": "skip"
    }
   },
   "outputs": [],
   "source": [
    "from concurrent.futures import ProcessPoolExecutor, ThreadPoolExecutor\n",
    "import numpy as np\n",
    "import time\n",
    "import matplotlib.pyplot as plt\n",
    "import glob\n",
    "from PIL import Image\n",
    "import random\n",
    "import string\n",
    "%matplotlib inline\n",
    "\n",
    "MULTITHREADING_TITLE=\"MultiThreading\"\n",
    "MULTIPROCESSING_TITLE=\"MultiProcessing\"\n",
    "\n",
    "def visualize_runtimes(results, label, title):\n",
    "    start,stop = np.array(results).T\n",
    "    plt.barh(range(len(start)),stop-start,left=start, label=label)\n",
    "    plt.grid(axis='x')\n",
    "    plt.ylabel(\"Tasks\")\n",
    "    plt.xlabel(\"Seconds\")\n",
    "    plt.title(title)\n",
    "    plt.legend(loc='lower right')\n",
    "    return stop[-1]-start[0]"
   ]
  },
  {
   "cell_type": "code",
   "execution_count": 2,
   "metadata": {
    "slideshow": {
     "slide_type": "skip"
    }
   },
   "outputs": [],
   "source": [
    "def multithreading(func, args, workers):\n",
    "    begin_time = time.time()\n",
    "    with ThreadPoolExecutor(max_workers=workers) as executor:\n",
    "        res = executor.map(func, args, [begin_time for i in range(len(args))])\n",
    "    return list(res)\n",
    "        \n",
    "def multiprocessing(func, args, workers):\n",
    "    begin_time = time.time()\n",
    "    with ProcessPoolExecutor(max_workers=workers) as executor:\n",
    "        res = executor.map(func, args, [begin_time for i in range(len(args))])\n",
    "    return list(res)"
   ]
  },
  {
   "cell_type": "code",
   "execution_count": 3,
   "metadata": {
    "slideshow": {
     "slide_type": "skip"
    }
   },
   "outputs": [],
   "source": [
    "# API Calls\n",
    "\n",
    "from urllib.request import urlopen\n",
    "\n",
    "def download(url, base):\n",
    "    start = time.time() - base\n",
    "    try:\n",
    "        resp = urlopen(url)\n",
    "    except Exception as e:\n",
    "        print ('ERROR: %s' % e)\n",
    "    stop = time.time() - base\n",
    "    return start,stop\n",
    "\n",
    "\n",
    "N = 16\n",
    "URL = 'http://scholar.princeton.edu/sites/default/files/oversize_pdf_test_0.pdf'\n",
    "urls = [URL for i in range(N)]"
   ]
  },
  {
   "cell_type": "code",
   "execution_count": 4,
   "metadata": {
    "slideshow": {
     "slide_type": "skip"
    }
   },
   "outputs": [],
   "source": [
    "counts = (1, 2, 3)\n",
    "proc_labels = (\"single process\", \"two processes\", \"four processes\")\n",
    "thread_labels = (\"single thread\", \"two threads\", \"four threads\")"
   ]
  },
  {
   "cell_type": "code",
   "execution_count": 5,
   "metadata": {
    "slideshow": {
     "slide_type": "slide"
    }
   },
   "outputs": [
    {
     "data": {
      "image/png": "[encoded data removed]",
      "text/plain": [
       "<Figure size 432x288 with 1 Axes>"
      ]
     },
     "metadata": {},
     "output_type": "display_data"
    }
   ],
   "source": [
    "for entry in zip(counts, thread_labels):\n",
    "    num_threads, label = entry\n",
    "    visualize_runtimes(multithreading(download, urls, num_threads), label, MULTITHREADING_TITLE)\n",
    "    "
   ]
  },
  {
   "cell_type": "code",
   "execution_count": 12,
   "metadata": {
    "slideshow": {
     "slide_type": "slide"
    }
   },
   "outputs": [
    {
     "data": {
      "image/png": "[encoded data removed]",
      "text/plain": [
       "<Figure size 432x288 with 1 Axes>"
      ]
     },
     "metadata": {},
     "output_type": "display_data"
    }
   ],
   "source": [
    "for entry in zip(counts, proc_labels):\n",
    "    num_procs, label = entry\n",
    "    visualize_runtimes(multiprocessing(download, urls, num_procs), label, MULTIPROCESSING_TITLE)\n",
    "    "
   ]
  },
  {
   "cell_type": "code",
   "execution_count": 7,
   "metadata": {
    "slideshow": {
     "slide_type": "skip"
    }
   },
   "outputs": [],
   "source": [
    "# IO Heavy\n",
    "\n",
    "def io_heavy(text,base):\n",
    "    start = time.time() - base\n",
    "    f = open('output.txt', 'wt', encoding='utf-8')\n",
    "    f.write(text)\n",
    "    f.close()\n",
    "    stop = time.time() - base\n",
    "    return start,stop\n",
    "\n",
    "N=12\n",
    "TEXT = ''.join(random.choice(string.ascii_lowercase) for i in range(10**7))"
   ]
  },
  {
   "cell_type": "code",
   "execution_count": 8,
   "metadata": {
    "slideshow": {
     "slide_type": "slide"
    }
   },
   "outputs": [
    {
     "data": {
      "image/png": "[encoded data removed]",
      "text/plain": [
       "<Figure size 432x288 with 1 Axes>"
      ]
     },
     "metadata": {},
     "output_type": "display_data"
    }
   ],
   "source": [
    "for entry in zip(counts, thread_labels):\n",
    "    num_threads, label = entry\n",
    "    visualize_runtimes(multithreading(io_heavy, [TEXT for i in range(N)], num_threads), label, \"Threading - Heavy IO\")\n",
    "    \n",
    "    "
   ]
  },
  {
   "cell_type": "code",
   "execution_count": 15,
   "metadata": {
    "slideshow": {
     "slide_type": "slide"
    }
   },
   "outputs": [
    {
     "data": {
      "image/png": "[encoded data removed]",
      "text/plain": [
       "<Figure size 432x288 with 1 Axes>"
      ]
     },
     "metadata": {},
     "output_type": "display_data"
    }
   ],
   "source": [
    "for i in zip(counts, proc_labels):\n",
    "    num_procs, label = i\n",
    "    visualize_runtimes(multiprocessing(io_heavy, [TEXT for i in range(N)], num_procs), label, MULTIPROCESSING_TITLE)\n",
    "    \n"
   ]
  },
  {
   "cell_type": "code",
   "execution_count": 16,
   "metadata": {
    "slideshow": {
     "slide_type": "skip"
    }
   },
   "outputs": [],
   "source": [
    "# Numpy\n",
    "\n",
    "#Does not use parallel processing by default\n",
    "#But will see speedups if multiprocessing used\n",
    "#Because numpy sidesteps python's GIL\n",
    "def addition(i, base):\n",
    "    start = time.time() - base\n",
    "    res = a + b\n",
    "    stop = time.time() - base\n",
    "    return start,stop\n",
    "\n",
    "DIMS = 15000\n",
    "N = 20\n",
    "DIMS_ARR = [DIMS for i in range(N)]\n",
    "a = np.random.rand(DIMS,DIMS)\n",
    "b = np.random.rand(DIMS,DIMS)"
   ]
  },
  {
   "cell_type": "raw",
   "metadata": {
    "slideshow": {
     "slide_type": "slide"
    }
   },
   "source": [
    "for entry in zip(counts, thread_labels):\n",
    "    num_threads, label = entry\n",
    "    visualize_runtimes(multithreading(addition, [i for i in range(N)], num_threads), label, MULTITHREADING_TITLE)\n",
    "    "
   ]
  },
  {
   "cell_type": "code",
   "execution_count": 18,
   "metadata": {
    "slideshow": {
     "slide_type": "slide"
    }
   },
   "outputs": [
    {
     "data": {
      "image/png": "[encoded data removed]",
      "text/plain": [
       "<Figure size 432x288 with 1 Axes>"
      ]
     },
     "metadata": {},
     "output_type": "display_data"
    }
   ],
   "source": [
    "for entry in zip(counts, proc_labels):\n",
    "    num_procs, label = entry\n",
    "    visualize_runtimes(multithreading(addition, [i for i in range(N)], num_procs), label, MULTIPROCESSING_TITLE)\n",
    "    "
   ]
  },
  {
   "cell_type": "markdown",
   "metadata": {
    "slideshow": {
     "slide_type": "slide"
    }
   },
   "source": [
    "### When you are implementing this on your own:\n",
    "    \n",
    "It is important to note that only _some_ problems will see performance gains when using either multiprocessing or multithreading. If your program has not been written in a concurrent way, you will see no performance boost through using either of these two modules. In order to set yourself up for success follow this guidelines:\n",
    "\n",
    "   1) Know whether to use multiprocessing or multithreading in the appropriate use cases.\n",
    "\n",
    "\n",
    "   2) Minimize communication between processes/threads.\n",
    "\n",
    "\n",
    "   3) Minimize shared memory (if using multiprocessing), if using shared objects between processes (dictionaries, lists, ints, strings, etc.) make sure that these objects are relatively small. \n",
    "\n",
    "\n",
    "   4) Utilize chunking where appropriate (passing chunks of tasks to each process, instead of individually. \n",
    "\n",
    "\n",
    "   5) Write your program steps to be run as independently as possible, or sometimes known as [embarassingly parallel](https://en.wikipedia.org/wiki/Embarrassingly_parallel)"
   ]
  },
  {
   "cell_type": "markdown",
   "metadata": {
    "slideshow": {
     "slide_type": "slide"
    }
   },
   "source": [
    "### Questions?"
   ]
  },
  {
   "cell_type": "code",
   "execution_count": null,
   "metadata": {},
   "outputs": [],
   "source": []
  }
 ],
 "metadata": {
  "celltoolbar": "Slideshow",
  "kernelspec": {
   "display_name": "Python 3",
   "language": "python",
   "name": "python3"
  },
  "language_info": {
   "codemirror_mode": {
    "name": "ipython",
    "version": 3
   },
   "file_extension": ".py",
   "mimetype": "text/x-python",
   "name": "python",
   "nbconvert_exporter": "python",
   "pygments_lexer": "ipython3",
   "version": "3.6.5"
  }
 },
 "nbformat": 4,
 "nbformat_minor": 2
}
