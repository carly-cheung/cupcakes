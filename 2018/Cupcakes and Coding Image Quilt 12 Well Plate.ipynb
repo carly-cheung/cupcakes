{
 "cells": [
  {
   "cell_type": "code",
   "execution_count": 2,
   "metadata": {},
   "outputs": [],
   "source": [
    "from PIL import Image\n",
    "im = Image.open(\"./Desktop/SUMMARIES/iPSC_Pictures_EVOS/Electro6/Electro6_Day2/hc-ipsc-electro6-day2postelec-freshoffRi-Pplate-A1-071818-0140.tif\")\n",
    "im.show()"
   ]
  },
  {
   "cell_type": "code",
   "execution_count": 3,
   "metadata": {},
   "outputs": [
    {
     "data": {
      "text/plain": [
       "(2048, 1536)"
      ]
     },
     "execution_count": 3,
     "metadata": {},
     "output_type": "execute_result"
    }
   ],
   "source": [
    "im.size"
   ]
  },
  {
   "cell_type": "code",
   "execution_count": 5,
   "metadata": {},
   "outputs": [],
   "source": [
    "Electro6Day2=Image.new(\"L\",(8192, 4608), color=0)"
   ]
  },
  {
   "cell_type": "code",
   "execution_count": 6,
   "metadata": {},
   "outputs": [],
   "source": [
    "Electro6Day2.paste(im,(0,0))\n",
    "Electro6Day2.show()\n"
   ]
  },
  {
   "cell_type": "code",
   "execution_count": 7,
   "metadata": {},
   "outputs": [],
   "source": [
    "from os import walk"
   ]
  },
  {
   "cell_type": "code",
   "execution_count": null,
   "metadata": {},
   "outputs": [],
   "source": [
    "walk(\"./Desktop/SUMMARIES/iPSC_Pictures_EVOS/Electro6/Electro6_Day2/\")"
   ]
  },
  {
   "cell_type": "code",
   "execution_count": null,
   "metadata": {},
   "outputs": [],
   "source": [
    "width, height = 2048, 1536\n",
    "Electro6Day7Uplate=Image.new(\"L\",(8192, 4608), color=0)\n",
    "for root, dirs, files in walk(\"./Desktop/Electro6/Electro6_Day7\"):\n",
    "    for file in files:\n",
    "        \n",
    "        try:\n",
    "            im = Image.open(\"./Desktop/Electro6/Electro6_Day7/{}\".format(file))\n",
    "            splitfile=file.split(\"electro6-Uplate\")\n",
    "            if len(splitfile) == 2:\n",
    "                well=splitfile[1].split(\"-\")[1]\n",
    "            \n",
    "                print((ord(well[0]) - ord('A'))*4 + int(well[1]))\n",
    "                Electro6Day7Uplate.paste(im, ((int(well[1])-1)*width, (ord(well[0])- ord('A'))*height))\n",
    "        except:\n",
    "            pass \n",
    "            \n",
    "    Electro6Day7Uplate.show() \n",
    "    Electro6Day7Uplate.save(\"./Desktop/Electro6/Electro6_Day7/UplateElectro6_day7_stitch.png\")\n",
    "        "
   ]
  }
 ],
 "metadata": {
  "kernelspec": {
   "display_name": "Python 3",
   "language": "python",
   "name": "python3"
  },
  "language_info": {
   "codemirror_mode": {
    "name": "ipython",
    "version": 3
   },
   "file_extension": ".py",
   "mimetype": "text/x-python",
   "name": "python",
   "nbconvert_exporter": "python",
   "pygments_lexer": "ipython3",
   "version": "3.6.5"
  }
 },
 "nbformat": 4,
 "nbformat_minor": 2
}
