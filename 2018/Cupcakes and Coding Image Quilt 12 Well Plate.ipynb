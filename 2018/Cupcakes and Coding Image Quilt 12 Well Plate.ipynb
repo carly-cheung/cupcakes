{
 "cells": [
  {
   "cell_type": "code",
   "execution_count": 4,
   "metadata": {},
   "outputs": [],
   "source": [
    "from PIL import Image\n",
    "folder = '/Users/hera.canaj/Desktop/SUMMARIES/iPSC_Pictures_EVOS/Electro6/Electro6_Day7'\n",
    "im = Image.open(f\"{folder}/hc-ipsc-electro6-pplate-B2-072318-day7postelec-0193.tif\")\n",
    "im.show()\n",
    "\n",
    "\n"
   ]
  },
  {
   "cell_type": "code",
   "execution_count": 2,
   "metadata": {},
   "outputs": [
    {
     "name": "stdout",
     "output_type": "stream",
     "text": [
      "UplateElectro6_day7_stitch.png\r\n",
      "\u001b[31mhc-ipsc-electro6-Uplate-A1-072318-day7postelec-0200.tif\u001b[m\u001b[m*\r\n",
      "\u001b[31mhc-ipsc-electro6-Uplate-A2-072318-day7postelec-0201.tif\u001b[m\u001b[m*\r\n",
      "\u001b[31mhc-ipsc-electro6-Uplate-A3-072318-day7postelec-0202.tif\u001b[m\u001b[m*\r\n",
      "\u001b[31mhc-ipsc-electro6-Uplate-A4-072318-day7postelec-0203.tif\u001b[m\u001b[m*\r\n",
      "\u001b[31mhc-ipsc-electro6-Uplate-B1-072318-day7postelec-0204.tif\u001b[m\u001b[m*\r\n",
      "\u001b[31mhc-ipsc-electro6-Uplate-B2-072318-day7postelec-0205.tif\u001b[m\u001b[m*\r\n",
      "\u001b[31mhc-ipsc-electro6-Uplate-B3-072318-day7postelec-0206.tif\u001b[m\u001b[m*\r\n",
      "\u001b[31mhc-ipsc-electro6-Uplate-B4-072318-day7postelec-0207.tif\u001b[m\u001b[m*\r\n",
      "\u001b[31mhc-ipsc-electro6-Uplate-C1-072318-day7postelec-0208.tif\u001b[m\u001b[m*\r\n",
      "\u001b[31mhc-ipsc-electro6-Uplate-C2-072318-day7postelec-0209.tif\u001b[m\u001b[m*\r\n",
      "\u001b[31mhc-ipsc-electro6-Uplate-C3-072318-day7postelec-0210.tif\u001b[m\u001b[m*\r\n",
      "\u001b[31mhc-ipsc-electro6-Uplate-C4-072318-day7postelec-0211.tif\u001b[m\u001b[m*\r\n",
      "\u001b[31mhc-ipsc-electro6-pplate-A1-072318-0187.tif\u001b[m\u001b[m*\r\n",
      "\u001b[31mhc-ipsc-electro6-pplate-A2-072318-day7postelec-0189.tif\u001b[m\u001b[m*\r\n",
      "\u001b[31mhc-ipsc-electro6-pplate-A3-072318-day7postelec-0190.tif\u001b[m\u001b[m*\r\n",
      "\u001b[31mhc-ipsc-electro6-pplate-A4-072318-day7postelec-0191.tif\u001b[m\u001b[m*\r\n",
      "\u001b[31mhc-ipsc-electro6-pplate-B1-072318-day7postelec-0192.tif\u001b[m\u001b[m*\r\n",
      "\u001b[31mhc-ipsc-electro6-pplate-B2-072318-day7postelec-0193.tif\u001b[m\u001b[m*\r\n",
      "\u001b[31mhc-ipsc-electro6-pplate-B3-072318-day7postelec-0194.tif\u001b[m\u001b[m*\r\n",
      "\u001b[31mhc-ipsc-electro6-pplate-B4-072318-day7postelec-0195.tif\u001b[m\u001b[m*\r\n",
      "\u001b[31mhc-ipsc-electro6-pplate-C1-072318-day7postelec-0196.tif\u001b[m\u001b[m*\r\n",
      "\u001b[31mhc-ipsc-electro6-pplate-C2-072318-day7postelec-0197.tif\u001b[m\u001b[m*\r\n",
      "\u001b[31mhc-ipsc-electro6-pplate-C3-072318-day7postelec-0198.tif\u001b[m\u001b[m*\r\n",
      "\u001b[31mhc-ipsc-electro6-pplate-C4-072318-day7postelec-0199.tif\u001b[m\u001b[m*\r\n",
      "pplateElectro6_day7_stitch.png\r\n",
      "pplateElectro6_day7_stitch_test.png\r\n"
     ]
    }
   ],
   "source": [
    "ls $folder"
   ]
  },
  {
   "cell_type": "code",
   "execution_count": 5,
   "metadata": {},
   "outputs": [
    {
     "data": {
      "text/plain": [
       "(2048, 1536)"
      ]
     },
     "execution_count": 5,
     "metadata": {},
     "output_type": "execute_result"
    }
   ],
   "source": [
    "im.size"
   ]
  },
  {
   "cell_type": "code",
   "execution_count": 6,
   "metadata": {},
   "outputs": [],
   "source": [
    "Electro6Day2=Image.new(\"L\",(8192, 4608), color=0)"
   ]
  },
  {
   "cell_type": "code",
   "execution_count": 7,
   "metadata": {},
   "outputs": [],
   "source": [
    "Electro6Day2.paste(im,(0,0))\n",
    "Electro6Day2.show()\n"
   ]
  },
  {
   "cell_type": "code",
   "execution_count": 8,
   "metadata": {},
   "outputs": [],
   "source": [
    "from os import walk"
   ]
  },
  {
   "cell_type": "code",
   "execution_count": 9,
   "metadata": {},
   "outputs": [
    {
     "data": {
      "text/plain": [
       "<generator object walk at 0x1149f2620>"
      ]
     },
     "execution_count": 9,
     "metadata": {},
     "output_type": "execute_result"
    }
   ],
   "source": [
    "walk(folder)"
   ]
  },
  {
   "cell_type": "code",
   "execution_count": 11,
   "metadata": {},
   "outputs": [
    {
     "data": {
      "text/plain": [
       "65"
      ]
     },
     "execution_count": 11,
     "metadata": {},
     "output_type": "execute_result"
    }
   ],
   "source": [
    "ord(\"A\")"
   ]
  },
  {
   "cell_type": "code",
   "execution_count": 12,
   "metadata": {},
   "outputs": [
    {
     "data": {
      "text/plain": [
       "66"
      ]
     },
     "execution_count": 12,
     "metadata": {},
     "output_type": "execute_result"
    }
   ],
   "source": [
    "ord(\"B\")"
   ]
  },
  {
   "cell_type": "code",
   "execution_count": 10,
   "metadata": {},
   "outputs": [
    {
     "data": {
      "text/plain": [
       "1"
      ]
     },
     "execution_count": 10,
     "metadata": {},
     "output_type": "execute_result"
    }
   ],
   "source": [
    "ord('B') - ord('A')"
   ]
  },
  {
   "cell_type": "code",
   "execution_count": 13,
   "metadata": {},
   "outputs": [],
   "source": [
    "width, height = 2048, 1536 ##define width and height of your image \n",
    "Electro6Day7pplate=Image.new(\"L\",(8192, 4608), color=0) #creating a new image 4x the width and 3x the height\n",
    "for root, dirs, files in walk(folder): #For loop that takes each file in the directory opens it and defines a well number\n",
    "    for file in files:\n",
    "        \n",
    "        try:\n",
    "            im = Image.open(\"{folder}/{filename}\".format(folder=folder, filename=file))\n",
    "            splitfile=file.split(\"electro6-pplate\")\n",
    "            if len(splitfile) == 2:\n",
    "                well=splitfile[1].split(\"-\")[1]\n",
    "            \n",
    "                #print((ord(well[0]) - ord('A'))*4 + int(well[1])) #Assigns image file to a number that is indexed from 1-12 and adds it to the new image file staggering by width and height\n",
    "                x_position = (int(well[1])-1)*width\n",
    "                y_position = (ord(well[0])- ord('A'))*height\n",
    "                Electro6Day7pplate.paste(im, (x_position, y_position))\n",
    "        except:\n",
    "            pass \n",
    "            \n",
    "    Electro6Day7pplate.show() \n",
    "    Electro6Day7pplate.save(f\"{folder}/pplateElectro6_day7_stitch_test.png\")"
   ]
  },
  {
   "cell_type": "code",
   "execution_count": 43,
   "metadata": {
    "scrolled": true
   },
   "outputs": [
    {
     "data": {
      "text/plain": [
       "'/Users/hera.canaj/cupcakes/2018'"
      ]
     },
     "execution_count": 43,
     "metadata": {},
     "output_type": "execute_result"
    }
   ],
   "source": []
  },
  {
   "cell_type": "code",
   "execution_count": 48,
   "metadata": {},
   "outputs": [],
   "source": []
  },
  {
   "cell_type": "code",
   "execution_count": null,
   "metadata": {},
   "outputs": [],
   "source": []
  }
 ],
 "metadata": {
  "kernelspec": {
   "display_name": "Python 3",
   "language": "python",
   "name": "python3"
  },
  "language_info": {
   "codemirror_mode": {
    "name": "ipython",
    "version": 3
   },
   "file_extension": ".py",
   "mimetype": "text/x-python",
   "name": "python",
   "nbconvert_exporter": "python",
   "pygments_lexer": "ipython3",
   "version": "3.6.5"
  }
 },
 "nbformat": 4,
 "nbformat_minor": 2
}
